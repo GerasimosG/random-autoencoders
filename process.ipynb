{
 "cells": [
  {
   "cell_type": "code",
   "execution_count": 17,
   "metadata": {
    "colab": {
     "base_uri": "https://localhost:8080/",
     "height": 52
    },
    "colab_type": "code",
    "id": "NHZRAnzW1sPv",
    "outputId": "f3040e3e-26a4-414b-df06-7700467da130"
   },
   "outputs": [
    {
     "name": "stdout",
     "output_type": "stream",
     "text": [
      "The autoreload extension is already loaded. To reload it, use:\n",
      "  %reload_ext autoreload\n"
     ]
    }
   ],
   "source": [
    "import numpy as np\n",
    "import tensorflow as tf\n",
    "from timeit import default_timer as timer\n",
    "import math\n",
    "from ae_data import *\n",
    "\n",
    "np.random.seed(314)\n",
    "tf.set_random_seed(272)\n",
    "\n",
    "%load_ext autoreload\n",
    "%autoreload 2"
   ]
  },
  {
   "cell_type": "code",
   "execution_count": 18,
   "metadata": {
    "colab": {
     "base_uri": "https://localhost:8080/",
     "height": 485
    },
    "colab_type": "code",
    "id": "YZlqOpDy1sP_",
    "outputId": "8cd29009-501c-4295-f546-5cf57504217d"
   },
   "outputs": [
    {
     "name": "stdout",
     "output_type": "stream",
     "text": [
      "Successfully downloaded train-images-idx3-ubyte.gz 9912422 bytes.\n",
      "Extracting MNIST_data/train-images-idx3-ubyte.gz\n",
      "Successfully downloaded train-labels-idx1-ubyte.gz 28881 bytes.\n",
      "Extracting MNIST_data/train-labels-idx1-ubyte.gz\n",
      "Successfully downloaded t10k-images-idx3-ubyte.gz 1648877 bytes.\n",
      "Extracting MNIST_data/t10k-images-idx3-ubyte.gz\n",
      "Successfully downloaded t10k-labels-idx1-ubyte.gz 4542 bytes.\n",
      "Extracting MNIST_data/t10k-labels-idx1-ubyte.gz\n"
     ]
    },
    {
     "data": {
      "image/png": "[encoded data removed]",
      "text/plain": [
       "<matplotlib.figure.Figure at 0x7efca64fd198>"
      ]
     },
     "metadata": {
      "tags": []
     },
     "output_type": "display_data"
    }
   ],
   "source": [
    "data_train, data_val, data_test, y_train, y_val, y_test, dataDim = \\\n",
    "    mnist_import(numTrain=50000, is_visualize=True,\\\n",
    "                range_normalize=[-1.0,1.0], is_one_hot=False)"
   ]
  },
  {
   "cell_type": "code",
   "execution_count": 20,
   "metadata": {
    "colab": {
     "base_uri": "https://localhost:8080/",
     "height": 2764
    },
    "colab_type": "code",
    "id": "SHAf5wsa1sQI",
    "outputId": "d904466d-1147-4b17-ba24-777049b9fa17",
    "scrolled": false
   },
   "outputs": [
    {
     "name": "stdout",
     "output_type": "stream",
     "text": [
      "The autoreload extension is already loaded. To reload it, use:\n",
      "  %reload_ext autoreload\n",
      "Iter | Time (min) | Learning rate | Train Rec Loss | Val Rec Loss | Test Rec Loss\n",
      "00000001 | 0.15 | 5.00e-03 | 9.947e-01 | 9.947e-01 | 9.946e-01\n",
      "00000005 | 0.06 | 5.00e-03 | 9.795e-01 | 9.795e-01 | 9.793e-01\n",
      "00000010 | 0.07 | 5.00e-03 | 9.699e-01 | 9.699e-01 | 9.697e-01\n",
      "00000015 | 0.07 | 5.00e-03 | 9.631e-01 | 9.630e-01 | 9.629e-01\n",
      "00000020 | 0.07 | 5.00e-03 | 9.571e-01 | 9.571e-01 | 9.570e-01\n",
      "00000025 | 0.07 | 5.00e-03 | 9.515e-01 | 9.514e-01 | 9.514e-01\n",
      "00000030 | 0.07 | 5.00e-03 | 9.461e-01 | 9.460e-01 | 9.460e-01\n",
      "00000035 | 0.07 | 5.00e-03 | 9.408e-01 | 9.407e-01 | 9.407e-01\n",
      "00000040 | 0.07 | 5.00e-03 | 9.356e-01 | 9.355e-01 | 9.355e-01\n",
      "00000045 | 0.07 | 5.00e-03 | 9.303e-01 | 9.303e-01 | 9.302e-01\n",
      "00000050 | 0.07 | 5.00e-03 | 9.251e-01 | 9.250e-01 | 9.250e-01\n",
      "00000055 | 0.07 | 5.00e-03 | 9.199e-01 | 9.198e-01 | 9.198e-01\n",
      "00000060 | 0.07 | 5.00e-03 | 9.146e-01 | 9.145e-01 | 9.145e-01\n",
      "00000065 | 0.07 | 5.00e-03 | 9.093e-01 | 9.092e-01 | 9.093e-01\n",
      "00000070 | 0.07 | 5.00e-03 | 9.040e-01 | 9.039e-01 | 9.039e-01\n",
      "00000075 | 0.07 | 5.00e-03 | 8.987e-01 | 8.985e-01 | 8.986e-01\n",
      "00000080 | 0.07 | 5.00e-03 | 8.933e-01 | 8.932e-01 | 8.932e-01\n",
      "00000085 | 0.07 | 5.00e-03 | 8.879e-01 | 8.877e-01 | 8.878e-01\n",
      "00000090 | 0.07 | 5.00e-03 | 8.824e-01 | 8.823e-01 | 8.823e-01\n",
      "00000095 | 0.07 | 5.00e-03 | 8.770e-01 | 8.768e-01 | 8.769e-01\n",
      "00000100 | 0.07 | 5.00e-03 | 8.715e-01 | 8.713e-01 | 8.714e-01\n",
      "00000120 | 0.08 | 5.00e-03 | 8.493e-01 | 8.491e-01 | 8.492e-01\n",
      "00000140 | 0.08 | 5.00e-03 | 8.268e-01 | 8.266e-01 | 8.267e-01\n",
      "00000160 | 0.08 | 5.00e-03 | 8.042e-01 | 8.039e-01 | 8.041e-01\n",
      "00000180 | 0.08 | 5.00e-03 | 7.816e-01 | 7.813e-01 | 7.815e-01\n",
      "00000200 | 0.08 | 5.00e-03 | 7.591e-01 | 7.587e-01 | 7.590e-01\n",
      "00000220 | 0.08 | 5.00e-03 | 7.367e-01 | 7.363e-01 | 7.366e-01\n",
      "00000240 | 0.08 | 5.00e-03 | 7.146e-01 | 7.141e-01 | 7.145e-01\n",
      "00000260 | 0.08 | 5.00e-03 | 6.928e-01 | 6.923e-01 | 6.927e-01\n",
      "00000280 | 0.08 | 5.00e-03 | 6.716e-01 | 6.710e-01 | 6.715e-01\n",
      "00000300 | 0.08 | 5.00e-03 | 6.508e-01 | 6.503e-01 | 6.508e-01\n",
      "00000320 | 0.08 | 5.00e-03 | 6.309e-01 | 6.303e-01 | 6.308e-01\n",
      "00000340 | 0.08 | 5.00e-03 | 6.114e-01 | 6.108e-01 | 6.114e-01\n",
      "00000360 | 0.08 | 5.00e-03 | 5.928e-01 | 5.921e-01 | 5.927e-01\n",
      "00000380 | 0.08 | 5.00e-03 | 5.749e-01 | 5.742e-01 | 5.750e-01\n",
      "00000400 | 0.08 | 5.00e-03 | 5.580e-01 | 5.573e-01 | 5.580e-01\n",
      "00000420 | 0.08 | 5.00e-03 | 5.419e-01 | 5.412e-01 | 5.420e-01\n",
      "00000440 | 0.08 | 5.00e-03 | 5.267e-01 | 5.259e-01 | 5.268e-01\n",
      "00000460 | 0.08 | 5.00e-03 | 5.124e-01 | 5.115e-01 | 5.125e-01\n",
      "00000480 | 0.08 | 5.00e-03 | 4.990e-01 | 4.981e-01 | 4.991e-01\n",
      "00000500 | 0.08 | 5.00e-03 | 4.863e-01 | 4.854e-01 | 4.865e-01\n",
      "00000520 | 0.08 | 5.00e-03 | 4.746e-01 | 4.736e-01 | 4.748e-01\n",
      "00000540 | 0.08 | 5.00e-03 | 4.636e-01 | 4.626e-01 | 4.638e-01\n",
      "00000560 | 0.08 | 5.00e-03 | 4.534e-01 | 4.523e-01 | 4.536e-01\n",
      "00000580 | 0.08 | 5.00e-03 | 4.438e-01 | 4.427e-01 | 4.441e-01\n",
      "00000600 | 0.08 | 5.00e-03 | 4.350e-01 | 4.339e-01 | 4.353e-01\n",
      "00000620 | 0.08 | 5.00e-03 | 4.267e-01 | 4.256e-01 | 4.271e-01\n",
      "00000640 | 0.08 | 5.00e-03 | 4.191e-01 | 4.179e-01 | 4.194e-01\n",
      "00000660 | 0.08 | 5.00e-03 | 4.120e-01 | 4.108e-01 | 4.124e-01\n",
      "00000680 | 0.08 | 5.00e-03 | 4.054e-01 | 4.042e-01 | 4.058e-01\n",
      "00000700 | 0.08 | 5.00e-03 | 3.993e-01 | 3.981e-01 | 3.997e-01\n",
      "00000720 | 0.08 | 5.00e-03 | 3.937e-01 | 3.924e-01 | 3.941e-01\n",
      "00000740 | 0.08 | 5.00e-03 | 3.884e-01 | 3.871e-01 | 3.889e-01\n",
      "00000760 | 0.08 | 5.00e-03 | 3.835e-01 | 3.822e-01 | 3.840e-01\n",
      "00000780 | 0.08 | 5.00e-03 | 3.789e-01 | 3.775e-01 | 3.794e-01\n",
      "00000800 | 0.08 | 5.00e-03 | 3.747e-01 | 3.733e-01 | 3.752e-01\n",
      "00000820 | 0.08 | 5.00e-03 | 3.707e-01 | 3.693e-01 | 3.712e-01\n",
      "00000840 | 0.08 | 5.00e-03 | 3.670e-01 | 3.656e-01 | 3.676e-01\n",
      "00000860 | 0.08 | 5.00e-03 | 3.636e-01 | 3.621e-01 | 3.641e-01\n",
      "00000880 | 0.08 | 5.00e-03 | 3.603e-01 | 3.589e-01 | 3.609e-01\n",
      "00000900 | 0.08 | 5.00e-03 | 3.574e-01 | 3.559e-01 | 3.580e-01\n",
      "00000920 | 0.08 | 5.00e-03 | 3.545e-01 | 3.530e-01 | 3.551e-01\n",
      "00000940 | 0.08 | 5.00e-03 | 3.519e-01 | 3.504e-01 | 3.525e-01\n",
      "00000960 | 0.08 | 5.00e-03 | 3.494e-01 | 3.479e-01 | 3.501e-01\n",
      "00000980 | 0.08 | 5.00e-03 | 3.471e-01 | 3.456e-01 | 3.478e-01\n",
      "00001000 | 0.08 | 5.00e-03 | 3.449e-01 | 3.434e-01 | 3.456e-01\n",
      "00001200 | 0.29 | 5.00e-03 | 3.291e-01 | 3.274e-01 | 3.298e-01\n",
      "00001400 | 0.29 | 5.00e-03 | 3.198e-01 | 3.180e-01 | 3.205e-01\n",
      "00001600 | 0.29 | 5.00e-03 | 3.139e-01 | 3.121e-01 | 3.146e-01\n",
      "00001800 | 0.29 | 5.00e-03 | 3.098e-01 | 3.080e-01 | 3.106e-01\n",
      "00002000 | 0.29 | 5.00e-03 | 3.069e-01 | 3.051e-01 | 3.076e-01\n",
      "00002200 | 0.29 | 5.00e-03 | 3.047e-01 | 3.029e-01 | 3.055e-01\n",
      "00002400 | 0.29 | 5.00e-03 | 3.031e-01 | 3.012e-01 | 3.038e-01\n",
      "00002600 | 0.29 | 5.00e-03 | 3.018e-01 | 2.999e-01 | 3.025e-01\n",
      "00002800 | 0.29 | 5.00e-03 | 3.007e-01 | 2.988e-01 | 3.014e-01\n",
      "00003000 | 0.29 | 5.00e-03 | 2.999e-01 | 2.980e-01 | 3.005e-01\n",
      "00003200 | 0.29 | 5.00e-03 | 2.992e-01 | 2.972e-01 | 2.998e-01\n",
      "00003400 | 0.29 | 5.00e-03 | 2.985e-01 | 2.966e-01 | 2.992e-01\n",
      "00003600 | 0.29 | 5.00e-03 | 2.980e-01 | 2.961e-01 | 2.987e-01\n",
      "00003800 | 0.29 | 5.00e-03 | 2.976e-01 | 2.956e-01 | 2.982e-01\n",
      "00004000 | 0.29 | 5.00e-03 | 2.972e-01 | 2.953e-01 | 2.978e-01\n",
      "00004200 | 0.29 | 5.00e-03 | 2.968e-01 | 2.949e-01 | 2.974e-01\n",
      "00004400 | 0.29 | 5.00e-03 | 2.965e-01 | 2.946e-01 | 2.971e-01\n",
      "00004600 | 0.29 | 5.00e-03 | 2.963e-01 | 2.943e-01 | 2.969e-01\n",
      "00004800 | 0.29 | 5.00e-03 | 2.960e-01 | 2.941e-01 | 2.966e-01\n",
      "00005000 | 0.29 | 5.00e-03 | 2.958e-01 | 2.939e-01 | 2.964e-01\n",
      "00005200 | 0.29 | 5.00e-03 | 2.956e-01 | 2.937e-01 | 2.962e-01\n",
      "00005400 | 0.29 | 5.00e-03 | 2.954e-01 | 2.935e-01 | 2.960e-01\n",
      "00005600 | 0.29 | 5.00e-03 | 2.952e-01 | 2.933e-01 | 2.958e-01\n",
      "00005800 | 0.29 | 5.00e-03 | 2.951e-01 | 2.932e-01 | 2.957e-01\n",
      "00006000 | 0.29 | 5.00e-03 | 2.949e-01 | 2.930e-01 | 2.955e-01\n",
      "00006200 | 0.29 | 5.00e-03 | 2.948e-01 | 2.929e-01 | 2.954e-01\n",
      "00006400 | 0.29 | 5.00e-03 | 2.947e-01 | 2.928e-01 | 2.953e-01\n",
      "00006600 | 0.29 | 5.00e-03 | 2.946e-01 | 2.927e-01 | 2.952e-01\n",
      "00006800 | 0.29 | 5.00e-03 | 2.945e-01 | 2.926e-01 | 2.951e-01\n",
      "00007000 | 0.29 | 5.00e-03 | 2.944e-01 | 2.925e-01 | 2.950e-01\n",
      "00007200 | 0.29 | 5.00e-03 | 2.943e-01 | 2.924e-01 | 2.949e-01\n",
      "00007400 | 0.29 | 5.00e-03 | 2.942e-01 | 2.923e-01 | 2.948e-01\n",
      "00007600 | 0.29 | 5.00e-03 | 2.941e-01 | 2.922e-01 | 2.947e-01\n",
      "00007800 | 0.29 | 5.00e-03 | 2.941e-01 | 2.921e-01 | 2.946e-01\n",
      "00008000 | 0.29 | 5.00e-03 | 2.940e-01 | 2.921e-01 | 2.946e-01\n",
      "00008200 | 0.29 | 5.00e-03 | 2.939e-01 | 2.920e-01 | 2.945e-01\n",
      "00008400 | 0.29 | 5.00e-03 | 2.939e-01 | 2.919e-01 | 2.944e-01\n",
      "00008600 | 0.29 | 5.00e-03 | 2.938e-01 | 2.919e-01 | 2.944e-01\n",
      "00008800 | 0.29 | 5.00e-03 | 2.937e-01 | 2.918e-01 | 2.943e-01\n",
      "00009000 | 0.29 | 5.00e-03 | 2.937e-01 | 2.918e-01 | 2.943e-01\n",
      "00009200 | 0.29 | 5.00e-03 | 2.936e-01 | 2.917e-01 | 2.942e-01\n",
      "00009400 | 0.29 | 5.00e-03 | 2.936e-01 | 2.917e-01 | 2.942e-01\n",
      "00009600 | 0.29 | 5.00e-03 | 2.936e-01 | 2.916e-01 | 2.941e-01\n",
      "00009800 | 0.29 | 5.00e-03 | 2.935e-01 | 2.916e-01 | 2.941e-01\n",
      "00010000 | 0.29 | 5.00e-03 | 2.935e-01 | 2.915e-01 | 2.940e-01\n",
      "00012000 | 2.34 | 5.00e-03 | 2.931e-01 | 2.912e-01 | 2.937e-01\n",
      "00014000 | 2.34 | 5.00e-03 | 2.929e-01 | 2.910e-01 | 2.935e-01\n",
      "00016000 | 2.34 | 5.00e-03 | 2.928e-01 | 2.908e-01 | 2.933e-01\n",
      "00018000 | 2.35 | 5.00e-03 | 2.926e-01 | 2.907e-01 | 2.932e-01\n",
      "00020000 | 2.35 | 5.00e-03 | 2.926e-01 | 2.906e-01 | 2.931e-01\n",
      "00022000 | 2.34 | 5.00e-03 | 2.925e-01 | 2.906e-01 | 2.930e-01\n",
      "00024000 | 2.33 | 5.00e-03 | 2.924e-01 | 2.905e-01 | 2.929e-01\n",
      "00026000 | 2.33 | 5.00e-03 | 2.924e-01 | 2.904e-01 | 2.929e-01\n",
      "00028000 | 2.33 | 5.00e-03 | 2.923e-01 | 2.904e-01 | 2.929e-01\n",
      "00030000 | 2.34 | 5.00e-03 | 2.923e-01 | 2.904e-01 | 2.928e-01\n",
      "00032000 | 2.34 | 5.00e-03 | 2.923e-01 | 2.903e-01 | 2.928e-01\n",
      "00034000 | 2.35 | 5.00e-03 | 2.922e-01 | 2.903e-01 | 2.928e-01\n",
      "00036000 | 2.34 | 5.00e-03 | 2.922e-01 | 2.903e-01 | 2.927e-01\n",
      "00038000 | 2.34 | 5.00e-03 | 2.922e-01 | 2.903e-01 | 2.927e-01\n",
      "00040000 | 2.34 | 5.00e-03 | 2.922e-01 | 2.903e-01 | 2.927e-01\n",
      "00042000 | 2.34 | 5.00e-03 | 2.921e-01 | 2.902e-01 | 2.927e-01\n",
      "00044000 | 2.34 | 5.00e-03 | 2.921e-01 | 2.902e-01 | 2.927e-01\n",
      "00046000 | 2.34 | 5.00e-03 | 2.921e-01 | 2.902e-01 | 2.927e-01\n",
      "00048000 | 2.34 | 5.00e-03 | 2.921e-01 | 2.902e-01 | 2.926e-01\n",
      "00050000 | 2.33 | 5.00e-03 | 2.921e-01 | 2.902e-01 | 2.926e-01\n",
      "00052000 | 2.34 | 5.00e-03 | 2.921e-01 | 2.902e-01 | 2.926e-01\n",
      "00054000 | 2.34 | 5.00e-03 | 2.921e-01 | 2.902e-01 | 2.926e-01\n",
      "00056000 | 2.34 | 5.00e-03 | 2.921e-01 | 2.902e-01 | 2.926e-01\n",
      "00058000 | 2.34 | 5.00e-03 | 2.921e-01 | 2.901e-01 | 2.926e-01\n",
      "00060000 | 2.34 | 5.00e-03 | 2.921e-01 | 2.901e-01 | 2.926e-01\n",
      "00062000 | 2.34 | 5.00e-03 | 2.920e-01 | 2.901e-01 | 2.926e-01\n",
      "00064000 | 2.34 | 5.00e-03 | 2.920e-01 | 2.901e-01 | 2.926e-01\n",
      "00066000 | 2.34 | 5.00e-03 | 2.920e-01 | 2.901e-01 | 2.926e-01\n",
      "00068000 | 2.34 | 5.00e-03 | 2.920e-01 | 2.901e-01 | 2.926e-01\n",
      "00070000 | 2.33 | 5.00e-03 | 2.920e-01 | 2.901e-01 | 2.925e-01\n",
      "00072000 | 2.33 | 5.00e-03 | 2.920e-01 | 2.901e-01 | 2.925e-01\n",
      "00074000 | 2.33 | 5.00e-03 | 2.920e-01 | 2.901e-01 | 2.925e-01\n",
      "00076000 | 2.33 | 5.00e-03 | 2.920e-01 | 2.901e-01 | 2.925e-01\n",
      "00078000 | 2.33 | 5.00e-03 | 2.920e-01 | 2.901e-01 | 2.925e-01\n",
      "00080000 | 2.34 | 5.00e-03 | 2.920e-01 | 2.901e-01 | 2.925e-01\n",
      "00082000 | 2.34 | 5.00e-03 | 2.920e-01 | 2.901e-01 | 2.925e-01\n",
      "00084000 | 2.34 | 5.00e-03 | 2.920e-01 | 2.901e-01 | 2.925e-01\n",
      "00086000 | 2.35 | 5.00e-03 | 2.920e-01 | 2.901e-01 | 2.925e-01\n",
      "00088000 | 2.35 | 5.00e-03 | 2.920e-01 | 2.901e-01 | 2.925e-01\n",
      "00090000 | 2.34 | 5.00e-03 | 2.920e-01 | 2.901e-01 | 2.925e-01\n",
      "00092000 | 2.34 | 5.00e-03 | 2.920e-01 | 2.901e-01 | 2.925e-01\n",
      "00094000 | 2.35 | 5.00e-03 | 2.920e-01 | 2.901e-01 | 2.925e-01\n",
      "00096000 | 2.34 | 5.00e-03 | 2.920e-01 | 2.901e-01 | 2.925e-01\n",
      "00098000 | 2.34 | 5.00e-03 | 2.920e-01 | 2.901e-01 | 2.925e-01\n",
      "00100000 | 2.35 | 5.00e-03 | 2.920e-01 | 2.901e-01 | 2.925e-01\n"
     ]
    }
   ],
   "source": [
    "import ae_class as my_AE\n",
    "\n",
    "%load_ext autoreload\n",
    "%autoreload 2\n",
    "\n",
    "\n",
    "X_train = np.array(data_train, copy=True)\n",
    "X_val = np.array(data_val, copy=True)\n",
    "X_test = np.array(data_test, copy=True)\n",
    "\n",
    "    \n",
    "layersNum = 100\n",
    "NN_architecture = dict(\n",
    "    dims = np.insert(np.round(400*np.ones(layersNum)).astype(np.int32), 0, dataDim),\n",
    "    W_init_var = 1.05,\n",
    "    b_init_var = 2.01e-5,\n",
    "    v_init_var = 0.0,\n",
    "    transfer_func_encoder = tf.tanh,  # this is sigma\n",
    "    transfer_func_decoder = tf.tanh,  # this is phi\n",
    "    transfer_func_output = tf.tanh,   # can be None for identity\n",
    "    transfer_func_mid = 'default',    # if 'default', same as transfer_func_encoder\n",
    "    dropOut = None,                   # can be None\n",
    "    loss_choice = 'NMSE',             # MSE, NMSE, cross entropy\n",
    "    is_use_batchnorm = False,\n",
    "    is_train_decoder_bias = True,\n",
    "    GPU_which = 0,                 # can be None\n",
    "    GPU_memory_fraction = 0.95,\n",
    "    Tensorflow_randomSeed = 272\n",
    ")\n",
    "nn = my_AE.AEbuild(NN_architecture)\n",
    "\n",
    "maxIter = int(1e5)\n",
    "display_iters = np.array([1, 5, *np.arange(10,100,5), *np.arange(100,1000,20), \\\n",
    "                                *np.arange(1e3,1e4,2e2), *np.arange(1e4,1e5,2e3), \\\n",
    "                                *np.arange(1e5,1e6,2e4), *np.arange(1e6,1e7,2e5), \\\n",
    "                                *np.arange(1e7,1e8,2e6), 1e8]).astype(int)\n",
    "display_iters = display_iters[display_iters<=maxIter]\n",
    "\n",
    "nn, train_loss_saved, val_loss_saved, test_loss_saved = \\\n",
    "    my_AE.AEtrain(nn, X_train, X_val, X_test, learning_rate=5e-3, lr_decay_rate=1.0, l2reg=0.0, \n",
    "            maxIter=maxIter, batch_size=125,  preIter=0, prebatch_size=1000,\\\n",
    "            display_iters=display_iters, \\\n",
    "            is_verbose=True, is_save_model=False, model_path=None,\n",
    "            save_model_iters = [])"
   ]
  },
  {
   "cell_type": "code",
   "execution_count": 21,
   "metadata": {
    "colab": {
     "base_uri": "https://localhost:8080/",
     "height": 351
    },
    "colab_type": "code",
    "id": "I4CyJXtI1sQg",
    "outputId": "4c8c3527-6611-4316-d020-554bb7ceb677"
   },
   "outputs": [
    {
     "data": {
      "image/png": "[encoded data removed]",
      "text/plain": [
       "<matplotlib.figure.Figure at 0x7efcb359fe10>"
      ]
     },
     "metadata": {
      "tags": []
     },
     "output_type": "display_data"
    }
   ],
   "source": [
    "import matplotlib.pyplot as plt\n",
    "\n",
    "plt.semilogx(display_iters, test_loss_saved)\n",
    "plt.show()"
   ]
  },
  {
   "cell_type": "code",
   "execution_count": 0,
   "metadata": {
    "colab": {},
    "colab_type": "code",
    "collapsed": true,
    "id": "S0P1rSEkQW5y"
   },
   "outputs": [],
   "source": []
  }
 ],
 "metadata": {
  "accelerator": "GPU",
  "colab": {
   "collapsed_sections": [],
   "name": "process.ipynb",
   "provenance": [],
   "version": "0.3.2"
  },
  "kernelspec": {
   "display_name": "Python 3",
   "language": "python",
   "name": "python3"
  },
  "language_info": {
   "codemirror_mode": {
    "name": "ipython",
    "version": 3
   },
   "file_extension": ".py",
   "mimetype": "text/x-python",
   "name": "python",
   "nbconvert_exporter": "python",
   "pygments_lexer": "ipython3",
   "version": "3.6.0"
  }
 },
 "nbformat": 4,
 "nbformat_minor": 1
}
